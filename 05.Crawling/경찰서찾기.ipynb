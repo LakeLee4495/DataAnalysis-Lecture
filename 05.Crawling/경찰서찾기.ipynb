{
 "cells": [
  {
   "cell_type": "markdown",
   "metadata": {},
   "source": [
    "# 평가 22.04.20"
   ]
  },
  {
   "cell_type": "code",
   "execution_count": 359,
   "metadata": {},
   "outputs": [],
   "source": [
    "import requests, re\n",
    "from selenium import webdriver\n",
    "from selenium.webdriver.common.keys import Keys\n",
    "from bs4 import BeautifulSoup\n",
    "import time\n",
    "import pandas as pd"
   ]
  },
  {
   "cell_type": "code",
   "execution_count": 360,
   "metadata": {},
   "outputs": [],
   "source": [
    "url = 'https://minwon.police.go.kr/#customerCenter/plcstSearch'\n",
    "header = {'User-Agent': \"Mozilla/5.0 (Windows NT 10.0; Win64; x64) AppleWebKit/537.36 (KHTML, like Gecko) Chrome/80.0.3987.122 Safari/537.36\"}\n",
    "req = requests.get(url, headers = header) \n",
    "driver = webdriver.Chrome('chromedriver.exe')\n",
    "html = req.text\n",
    "driver.get(url)\n",
    "time.sleep(2)"
   ]
  },
  {
   "cell_type": "markdown",
   "metadata": {},
   "source": [
    "서울 리스트 자료있는곳까지 이동"
   ]
  },
  {
   "cell_type": "code",
   "execution_count": 361,
   "metadata": {},
   "outputs": [],
   "source": [
    "driver.find_element_by_xpath('//*[@id=\"tab3\"]').click()\n",
    "time.sleep(2)"
   ]
  },
  {
   "cell_type": "code",
   "execution_count": 362,
   "metadata": {},
   "outputs": [],
   "source": [
    "driver.find_element_by_xpath('//*[@id=\"indexedA\"]').click()   \n",
    "time.sleep(1)"
   ]
  },
  {
   "cell_type": "markdown",
   "metadata": {},
   "source": [
    "데이터 추출"
   ]
  },
  {
   "cell_type": "code",
   "execution_count": 363,
   "metadata": {},
   "outputs": [
    {
     "data": {
      "text/plain": [
       "[<tr> <td>경찰청 서울특별시경찰청 서울중부경찰서 </td>\n",
       " <td class=\"title\">서울특별시 중구 수표로 27</td>\n",
       " <td>\n",
       " <a addr=\"서울특별시 중구 수표로 27\" href=\"#\" id=\"viewMap\" latd=\"37.563630778711754\" lotd=\"126.99002154542026\" plcstid=\"3\" plcstnm=\"경찰청 서울특별시경찰청 서울중부경찰서\">\n",
       " <img alt=\"지도보기\" src=\"/images/icon/icon_map.gif\"/>\n",
       " </a>\n",
       " </td></tr>,\n",
       " <tr> <td>경찰청 서울특별시경찰청 서울종로경찰서 </td>\n",
       " <td class=\"title\">서울특별시 종로구 율곡로 46</td>\n",
       " <td>\n",
       " <a addr=\"서울특별시 종로구 율곡로 46\" href=\"#\" id=\"viewMap\" latd=\"37.57587651959812\" lotd=\"126.98454988134327\" plcstid=\"4\" plcstnm=\"경찰청 서울특별시경찰청 서울종로경찰서\">\n",
       " <img alt=\"지도보기\" src=\"/images/icon/icon_map.gif\"/>\n",
       " </a>\n",
       " </td></tr>,\n",
       " <tr> <td>경찰청 서울특별시경찰청 서울남대문경찰서 </td>\n",
       " <td class=\"title\">서울특별시 중구 한강대로 410</td>\n",
       " <td>\n",
       " <a addr=\"서울특별시 중구 한강대로 410\" href=\"#\" id=\"viewMap\" latd=\"37.55481288235392\" lotd=\"126.97354934704215\" plcstid=\"5\" plcstnm=\"경찰청 서울특별시경찰청 서울남대문경찰서\">\n",
       " <img alt=\"지도보기\" src=\"/images/icon/icon_map.gif\"/>\n",
       " </a>\n",
       " </td></tr>,\n",
       " <tr> <td>경찰청 서울특별시경찰청 서울서대문경찰서 </td>\n",
       " <td class=\"title\">서울특별시 서대문구 통일로 113</td>\n",
       " <td>\n",
       " <a addr=\"서울특별시 서대문구 통일로 113\" href=\"#\" id=\"viewMap\" latd=\"37.56508622357427\" lotd=\"126.96707589270106\" plcstid=\"6\" plcstnm=\"경찰청 서울특별시경찰청 서울서대문경찰서\">\n",
       " <img alt=\"지도보기\" src=\"/images/icon/icon_map.gif\"/>\n",
       " </a>\n",
       " </td></tr>,\n",
       " <tr> <td>경찰청 서울특별시경찰청 서울혜화경찰서 </td>\n",
       " <td class=\"title\">서울특별시 종로구 창경궁로 112-16</td>\n",
       " <td>\n",
       " <a addr=\"서울특별시 종로구 창경궁로 112-16\" href=\"#\" id=\"viewMap\" latd=\"37.57176899196741\" lotd=\"126.99927553246675\" plcstid=\"7\" plcstnm=\"경찰청 서울특별시경찰청 서울혜화경찰서\">\n",
       " <img alt=\"지도보기\" src=\"/images/icon/icon_map.gif\"/>\n",
       " </a>\n",
       " </td></tr>]"
      ]
     },
     "execution_count": 363,
     "metadata": {},
     "output_type": "execute_result"
    }
   ],
   "source": [
    "soup = BeautifulSoup(driver.page_source, 'html.parser')\n",
    "list = soup.select_one('.table-list.delStr')\n",
    "list_detail = list.find('tbody')\n",
    "trs = soup.select('#minwonTbody > tr')\n",
    "trs"
   ]
  },
  {
   "cell_type": "code",
   "execution_count": 374,
   "metadata": {},
   "outputs": [
    {
     "data": {
      "text/plain": [
       "'서울송파경찰서'"
      ]
     },
     "execution_count": 374,
     "metadata": {},
     "output_type": "execute_result"
    }
   ],
   "source": [
    "tr = trs[0]\n",
    "name = tr.find('td').get_text()\n",
    "name"
   ]
  },
  {
   "cell_type": "code",
   "execution_count": 375,
   "metadata": {},
   "outputs": [
    {
     "data": {
      "text/plain": [
       "'서울특별시 송파구 중대로 221'"
      ]
     },
     "execution_count": 375,
     "metadata": {},
     "output_type": "execute_result"
    }
   ],
   "source": [
    "addr = tr.find('td', {'class':'title'}).get_text()\n",
    "addr"
   ]
  },
  {
   "cell_type": "code",
   "execution_count": 366,
   "metadata": {},
   "outputs": [],
   "source": [
    "from tqdm.notebook import tqdm"
   ]
  },
  {
   "cell_type": "code",
   "execution_count": 367,
   "metadata": {},
   "outputs": [
    {
     "data": {
      "application/vnd.jupyter.widget-view+json": {
       "model_id": "97fbd4bb22e24d279e30ec1d46f695a1",
       "version_major": 2,
       "version_minor": 0
      },
      "text/plain": [
       "  0%|          | 0/6 [00:00<?, ?it/s]"
      ]
     },
     "metadata": {},
     "output_type": "display_data"
    }
   ],
   "source": [
    "lines = []\n",
    "\n",
    "for i in tqdm(range(0,6)):\n",
    "        for tr in trs:\n",
    "            name = name = tr.find('td').get_text()\n",
    "            addr = tr.find('td', {'class':'title'}).get_text()\n",
    "            lines.append({'경찰서명':name, '주소':addr})\n",
    "        driver.find_element_by_css_selector('.next').click()\n",
    "        soup = BeautifulSoup(driver.page_source, 'html.parser')\n",
    "        trs = soup.select('#minwonTbody > tr')\n",
    "        time.sleep(1)\n"
   ]
  },
  {
   "cell_type": "code",
   "execution_count": 368,
   "metadata": {},
   "outputs": [],
   "source": [
    "driver.close()"
   ]
  },
  {
   "cell_type": "code",
   "execution_count": 371,
   "metadata": {},
   "outputs": [
    {
     "data": {
      "text/html": [
       "<div>\n",
       "<style scoped>\n",
       "    .dataframe tbody tr th:only-of-type {\n",
       "        vertical-align: middle;\n",
       "    }\n",
       "\n",
       "    .dataframe tbody tr th {\n",
       "        vertical-align: top;\n",
       "    }\n",
       "\n",
       "    .dataframe thead th {\n",
       "        text-align: right;\n",
       "    }\n",
       "</style>\n",
       "<table border=\"1\" class=\"dataframe\">\n",
       "  <thead>\n",
       "    <tr style=\"text-align: right;\">\n",
       "      <th></th>\n",
       "      <th>경찰서명</th>\n",
       "      <th>주소</th>\n",
       "    </tr>\n",
       "  </thead>\n",
       "  <tbody>\n",
       "    <tr>\n",
       "      <th>0</th>\n",
       "      <td>경찰청 서울특별시경찰청 서울중부경찰서</td>\n",
       "      <td>서울특별시 중구 수표로 27</td>\n",
       "    </tr>\n",
       "    <tr>\n",
       "      <th>1</th>\n",
       "      <td>경찰청 서울특별시경찰청 서울종로경찰서</td>\n",
       "      <td>서울특별시 종로구 율곡로 46</td>\n",
       "    </tr>\n",
       "    <tr>\n",
       "      <th>2</th>\n",
       "      <td>경찰청 서울특별시경찰청 서울남대문경찰서</td>\n",
       "      <td>서울특별시 중구 한강대로 410</td>\n",
       "    </tr>\n",
       "    <tr>\n",
       "      <th>3</th>\n",
       "      <td>경찰청 서울특별시경찰청 서울서대문경찰서</td>\n",
       "      <td>서울특별시 서대문구 통일로 113</td>\n",
       "    </tr>\n",
       "    <tr>\n",
       "      <th>4</th>\n",
       "      <td>경찰청 서울특별시경찰청 서울혜화경찰서</td>\n",
       "      <td>서울특별시 종로구 창경궁로 112-16</td>\n",
       "    </tr>\n",
       "  </tbody>\n",
       "</table>\n",
       "</div>"
      ],
      "text/plain": [
       "                     경찰서명                     주소\n",
       "0   경찰청 서울특별시경찰청 서울중부경찰서         서울특별시 중구 수표로 27\n",
       "1   경찰청 서울특별시경찰청 서울종로경찰서        서울특별시 종로구 율곡로 46\n",
       "2  경찰청 서울특별시경찰청 서울남대문경찰서       서울특별시 중구 한강대로 410\n",
       "3  경찰청 서울특별시경찰청 서울서대문경찰서      서울특별시 서대문구 통일로 113\n",
       "4   경찰청 서울특별시경찰청 서울혜화경찰서   서울특별시 종로구 창경궁로 112-16"
      ]
     },
     "execution_count": 371,
     "metadata": {},
     "output_type": "execute_result"
    }
   ],
   "source": [
    "df = pd.DataFrame(lines, columns=['경찰서명','주소'])\n",
    "df.head(5)"
   ]
  },
  {
   "cell_type": "code",
   "execution_count": 370,
   "metadata": {},
   "outputs": [],
   "source": [
    "df.to_csv('서울경찰서1.csv', index=False)"
   ]
  }
 ],
 "metadata": {
  "interpreter": {
   "hash": "a55677fa32ee009990947e7ccabbe84f05e44a581f6899b2d3b1741ca6fd9332"
  },
  "kernelspec": {
   "display_name": "Python 3.9.7 ('base')",
   "language": "python",
   "name": "python3"
  },
  "language_info": {
   "codemirror_mode": {
    "name": "ipython",
    "version": 3
   },
   "file_extension": ".py",
   "mimetype": "text/x-python",
   "name": "python",
   "nbconvert_exporter": "python",
   "pygments_lexer": "ipython3",
   "version": "3.9.7"
  },
  "orig_nbformat": 4
 },
 "nbformat": 4,
 "nbformat_minor": 2
}
