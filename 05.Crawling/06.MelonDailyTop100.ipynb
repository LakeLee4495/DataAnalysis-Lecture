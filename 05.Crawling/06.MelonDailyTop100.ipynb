{
 "cells": [
  {
   "cell_type": "markdown",
   "metadata": {},
   "source": [
    "# 멜론차트 일간, 장르종합 Top 100\n",
    "순위, 제목, 가수, 앨범명, 크롤링 후 df만들어서 멜론차트일간.csv 저장"
   ]
  },
  {
   "cell_type": "code",
   "execution_count": 18,
   "metadata": {},
   "outputs": [],
   "source": [
    "import requests, re\n",
    "import pandas as pd\n",
    "from bs4 import BeautifulSoup"
   ]
  },
  {
   "cell_type": "markdown",
   "metadata": {},
   "source": [
    "### 데이터 가져오기"
   ]
  },
  {
   "cell_type": "code",
   "execution_count": 19,
   "metadata": {},
   "outputs": [],
   "source": [
    "url = 'https://www.melon.com/chart/day/index.htm?classCd=GN0000'\n",
    "header = {'User-Agent': \"Mozilla/5.0 (Windows NT 10.0; Win64; x64) AppleWebKit/537.36 (KHTML, like Gecko) Chrome/80.0.3987.122 Safari/537.36\"}\n",
    "req = requests.get(url, headers = header) \n",
    "html = req.text\n",
    "#html"
   ]
  },
  {
   "cell_type": "code",
   "execution_count": 20,
   "metadata": {},
   "outputs": [],
   "source": [
    "soup = BeautifulSoup(html, 'html.parser')"
   ]
  },
  {
   "cell_type": "markdown",
   "metadata": {},
   "source": [
    "### 원하는 데이터 찾기"
   ]
  },
  {
   "cell_type": "markdown",
   "metadata": {},
   "source": [
    "- 리스트"
   ]
  },
  {
   "cell_type": "code",
   "execution_count": 21,
   "metadata": {},
   "outputs": [
    {
     "data": {
      "text/plain": [
       "100"
      ]
     },
     "execution_count": 21,
     "metadata": {},
     "output_type": "execute_result"
    }
   ],
   "source": [
    "list = soup.select_one('.d_song_list')\n",
    "list_detail = list.find('tbody')\n",
    "trs = list_detail.find_all('tr')\n",
    "len(trs)"
   ]
  },
  {
   "cell_type": "markdown",
   "metadata": {},
   "source": [
    "### 하나를 선택해서 원하는 정보 추출하기"
   ]
  },
  {
   "cell_type": "markdown",
   "metadata": {},
   "source": [
    "- 순위"
   ]
  },
  {
   "cell_type": "code",
   "execution_count": 22,
   "metadata": {},
   "outputs": [
    {
     "data": {
      "text/plain": [
       "'99'"
      ]
     },
     "execution_count": 22,
     "metadata": {},
     "output_type": "execute_result"
    }
   ],
   "source": [
    "tr = trs[98]\n",
    "rank =tr.select_one('.rank').string\n",
    "rank"
   ]
  },
  {
   "cell_type": "markdown",
   "metadata": {},
   "source": [
    "- 제목"
   ]
  },
  {
   "cell_type": "code",
   "execution_count": 23,
   "metadata": {},
   "outputs": [
    {
     "data": {
      "text/plain": [
       "'오늘도 빛나는 너에게 (To You My Light) (Feat.이라온)'"
      ]
     },
     "execution_count": 23,
     "metadata": {},
     "output_type": "execute_result"
    }
   ],
   "source": [
    "try:          \n",
    "    title = tr.select_one('.ellipsis.rank01').get_text().strip()\n",
    "except:      \n",
    "    title = tr.select_one('.ellipsis.rank01').get_text().split('\\n')[-1].strip()\n",
    "title"
   ]
  },
  {
   "cell_type": "markdown",
   "metadata": {},
   "source": [
    "- 가수"
   ]
  },
  {
   "cell_type": "code",
   "execution_count": 24,
   "metadata": {},
   "outputs": [
    {
     "data": {
      "text/plain": [
       "'마크툽 (MAKTUB)'"
      ]
     },
     "execution_count": 24,
     "metadata": {},
     "output_type": "execute_result"
    }
   ],
   "source": [
    "artist = tr.select_one('.checkEllipsis').get_text().strip()\n",
    "artist"
   ]
  },
  {
   "cell_type": "markdown",
   "metadata": {},
   "source": [
    "- 앨범명"
   ]
  },
  {
   "cell_type": "code",
   "execution_count": 25,
   "metadata": {},
   "outputs": [
    {
     "data": {
      "text/plain": [
       "'Red Moon : To You My Light'"
      ]
     },
     "execution_count": 25,
     "metadata": {},
     "output_type": "execute_result"
    }
   ],
   "source": [
    "album = tr.select_one('.ellipsis.rank03').text.strip()\n",
    "album"
   ]
  },
  {
   "cell_type": "markdown",
   "metadata": {},
   "source": [
    "### 반복문을 사용하여 페이지에 있는 데이터 가져오기 및 오류 수정하기"
   ]
  },
  {
   "cell_type": "code",
   "execution_count": 26,
   "metadata": {},
   "outputs": [],
   "source": [
    "rank_list, title_list, artist_list, album_list = [],[],[],[]\n",
    "for i, tr in enumerate(trs):\n",
    "    try:\n",
    "        rank =tr.select_one('.rank').string\n",
    "    except:\n",
    "        rank = 0\n",
    "    try:            \n",
    "        title = tr.select_one('.ellipsis.rank01').get_text().strip()\n",
    "    except:         \n",
    "        title = tr.select_one('.ellipsis.rank01').get_text().split('\\n')[-1].strip()\n",
    "    artist = tr.select_one('.checkEllipsis').get_text().strip()\n",
    "    album = tr.select_one('.ellipsis.rank03').text.strip()\n",
    "    rank_list.append(rank)\n",
    "    title_list.append(title)\n",
    "    artist_list.append(artist)\n",
    "    album_list.append(album)"
   ]
  },
  {
   "cell_type": "markdown",
   "metadata": {},
   "source": [
    "### 데이터프레임으로 만들고 저장하기"
   ]
  },
  {
   "cell_type": "code",
   "execution_count": 27,
   "metadata": {},
   "outputs": [
    {
     "data": {
      "text/html": [
       "<div>\n",
       "<style scoped>\n",
       "    .dataframe tbody tr th:only-of-type {\n",
       "        vertical-align: middle;\n",
       "    }\n",
       "\n",
       "    .dataframe tbody tr th {\n",
       "        vertical-align: top;\n",
       "    }\n",
       "\n",
       "    .dataframe thead th {\n",
       "        text-align: right;\n",
       "    }\n",
       "</style>\n",
       "<table border=\"1\" class=\"dataframe\">\n",
       "  <thead>\n",
       "    <tr style=\"text-align: right;\">\n",
       "      <th></th>\n",
       "      <th>순위</th>\n",
       "      <th>제목</th>\n",
       "      <th>가수</th>\n",
       "      <th>앨범명</th>\n",
       "    </tr>\n",
       "  </thead>\n",
       "  <tbody>\n",
       "    <tr>\n",
       "      <th>0</th>\n",
       "      <td>1</td>\n",
       "      <td>봄여름가을겨울 (Still Life)</td>\n",
       "      <td>BIGBANG (빅뱅)</td>\n",
       "      <td>봄여름가을겨울 (Still Life)</td>\n",
       "    </tr>\n",
       "    <tr>\n",
       "      <th>1</th>\n",
       "      <td>2</td>\n",
       "      <td>TOMBOY</td>\n",
       "      <td>(여자)아이들</td>\n",
       "      <td>I NEVER DIE</td>\n",
       "    </tr>\n",
       "    <tr>\n",
       "      <th>2</th>\n",
       "      <td>3</td>\n",
       "      <td>LOVE DIVE</td>\n",
       "      <td>IVE (아이브)</td>\n",
       "      <td>LOVE DIVE</td>\n",
       "    </tr>\n",
       "    <tr>\n",
       "      <th>3</th>\n",
       "      <td>4</td>\n",
       "      <td>Feel My Rhythm</td>\n",
       "      <td>Red Velvet (레드벨벳)</td>\n",
       "      <td>‘The ReVe Festival 2022 - Feel My Rhythm’</td>\n",
       "    </tr>\n",
       "    <tr>\n",
       "      <th>4</th>\n",
       "      <td>5</td>\n",
       "      <td>사랑인가 봐</td>\n",
       "      <td>멜로망스</td>\n",
       "      <td>사랑인가 봐 (사내맞선 OST 스페셜 트랙)</td>\n",
       "    </tr>\n",
       "    <tr>\n",
       "      <th>...</th>\n",
       "      <td>...</td>\n",
       "      <td>...</td>\n",
       "      <td>...</td>\n",
       "      <td>...</td>\n",
       "    </tr>\n",
       "    <tr>\n",
       "      <th>95</th>\n",
       "      <td>96</td>\n",
       "      <td>다시 만날까 봐</td>\n",
       "      <td>V.O.S, 이예준</td>\n",
       "      <td>다시 만날까 봐</td>\n",
       "    </tr>\n",
       "    <tr>\n",
       "      <th>96</th>\n",
       "      <td>97</td>\n",
       "      <td>북극성 (Never Goodbye)</td>\n",
       "      <td>NCT DREAM</td>\n",
       "      <td>Glitch Mode - The 2nd Album</td>\n",
       "    </tr>\n",
       "    <tr>\n",
       "      <th>97</th>\n",
       "      <td>98</td>\n",
       "      <td>O.O</td>\n",
       "      <td>NMIXX</td>\n",
       "      <td>AD MARE</td>\n",
       "    </tr>\n",
       "    <tr>\n",
       "      <th>98</th>\n",
       "      <td>99</td>\n",
       "      <td>오늘도 빛나는 너에게 (To You My Light) (Feat.이라온)</td>\n",
       "      <td>마크툽 (MAKTUB)</td>\n",
       "      <td>Red Moon : To You My Light</td>\n",
       "    </tr>\n",
       "    <tr>\n",
       "      <th>99</th>\n",
       "      <td>100</td>\n",
       "      <td>추억은 만남보다 이별에 남아</td>\n",
       "      <td>정동하</td>\n",
       "      <td>추억은 만남보다 이별에 남아</td>\n",
       "    </tr>\n",
       "  </tbody>\n",
       "</table>\n",
       "<p>100 rows × 4 columns</p>\n",
       "</div>"
      ],
      "text/plain": [
       "     순위                                        제목                 가수  \\\n",
       "0     1                      봄여름가을겨울 (Still Life)       BIGBANG (빅뱅)   \n",
       "1     2                                    TOMBOY            (여자)아이들   \n",
       "2     3                                 LOVE DIVE          IVE (아이브)   \n",
       "3     4                            Feel My Rhythm  Red Velvet (레드벨벳)   \n",
       "4     5                                    사랑인가 봐               멜로망스   \n",
       "..  ...                                       ...                ...   \n",
       "95   96                                  다시 만날까 봐         V.O.S, 이예준   \n",
       "96   97                       북극성 (Never Goodbye)          NCT DREAM   \n",
       "97   98                                       O.O              NMIXX   \n",
       "98   99  오늘도 빛나는 너에게 (To You My Light) (Feat.이라온)       마크툽 (MAKTUB)   \n",
       "99  100                           추억은 만남보다 이별에 남아                정동하   \n",
       "\n",
       "                                          앨범명  \n",
       "0                        봄여름가을겨울 (Still Life)  \n",
       "1                                 I NEVER DIE  \n",
       "2                                   LOVE DIVE  \n",
       "3   ‘The ReVe Festival 2022 - Feel My Rhythm’  \n",
       "4                    사랑인가 봐 (사내맞선 OST 스페셜 트랙)  \n",
       "..                                        ...  \n",
       "95                                   다시 만날까 봐  \n",
       "96                Glitch Mode - The 2nd Album  \n",
       "97                                    AD MARE  \n",
       "98                 Red Moon : To You My Light  \n",
       "99                            추억은 만남보다 이별에 남아  \n",
       "\n",
       "[100 rows x 4 columns]"
      ]
     },
     "execution_count": 27,
     "metadata": {},
     "output_type": "execute_result"
    }
   ],
   "source": [
    "df = pd.DataFrame({'순위':rank_list, '제목':title_list,\n",
    "                '가수':artist_list, '앨범명':album_list})\n",
    "df"
   ]
  },
  {
   "cell_type": "code",
   "execution_count": 17,
   "metadata": {},
   "outputs": [],
   "source": [
    "df.to_csv('멜론차트일간.csv', index=False)"
   ]
  }
 ],
 "metadata": {
  "interpreter": {
   "hash": "a55677fa32ee009990947e7ccabbe84f05e44a581f6899b2d3b1741ca6fd9332"
  },
  "kernelspec": {
   "display_name": "Python 3.9.7 ('base')",
   "language": "python",
   "name": "python3"
  },
  "language_info": {
   "codemirror_mode": {
    "name": "ipython",
    "version": 3
   },
   "file_extension": ".py",
   "mimetype": "text/x-python",
   "name": "python",
   "nbconvert_exporter": "python",
   "pygments_lexer": "ipython3",
   "version": "3.9.7"
  },
  "orig_nbformat": 4
 },
 "nbformat": 4,
 "nbformat_minor": 2
}
