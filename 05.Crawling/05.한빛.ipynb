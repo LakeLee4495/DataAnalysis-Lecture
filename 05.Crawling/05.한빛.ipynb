{
 "cells": [
  {
   "cell_type": "markdown",
   "metadata": {},
   "source": [
    "# 한빛 출판 네트워크 - 새로나온책 10페이지 \\\n",
    "- 제목 저자 출간일 쪽수 가격 역자"
   ]
  },
  {
   "cell_type": "code",
   "execution_count": 1,
   "metadata": {},
   "outputs": [
    {
     "ename": "IndentationError",
     "evalue": "expected an indented block (Temp/ipykernel_4904/3909944947.py, line 17)",
     "output_type": "error",
     "traceback": [
      "\u001b[1;36m  File \u001b[1;32m\"C:\\Users\\leela\\AppData\\Local\\Temp/ipykernel_4904/3909944947.py\"\u001b[1;36m, line \u001b[1;32m17\u001b[0m\n\u001b[1;33m    lines.append()\u001b[0m\n\u001b[1;37m    ^\u001b[0m\n\u001b[1;31mIndentationError\u001b[0m\u001b[1;31m:\u001b[0m expected an indented block\n"
     ]
    }
   ],
   "source": [
    "lines = []\n",
    "\n",
    "for page in range(1,11):\n",
    "    # url\n",
    "    # soup\n",
    "    # trs, lis 찾기\n",
    "\n",
    "    for li in lis:\n",
    "        # href\n",
    "        # 원하는 정보 (책 제목, 저자)\n",
    "        # sub_url\n",
    "        # sub_soup\n",
    "        # sub_lis 찾기\n",
    "        for li in sub_lis:\n",
    "            # 출간일, 쪽수, 가격, 역자\n",
    "        \n",
    "        lines.append()"
   ]
  },
  {
   "cell_type": "code",
   "execution_count": 3,
   "metadata": {},
   "outputs": [],
   "source": [
    "import requests, re\n",
    "import pandas as pd\n",
    "from bs4 import BeautifulSoup\n",
    "from tqdm.notebook import tqdm"
   ]
  },
  {
   "cell_type": "code",
   "execution_count": 11,
   "metadata": {},
   "outputs": [],
   "source": [
    "url = 'https://www.hanbit.co.kr/store/books/new_book_list.html'\n",
    "res = requests.get(url)\n",
    "#res.text"
   ]
  },
  {
   "cell_type": "code",
   "execution_count": 13,
   "metadata": {},
   "outputs": [],
   "source": [
    "soup = BeautifulSoup(res.text, 'html.parser')"
   ]
  },
  {
   "cell_type": "code",
   "execution_count": null,
   "metadata": {},
   "outputs": [],
   "source": []
  }
 ],
 "metadata": {
  "interpreter": {
   "hash": "a55677fa32ee009990947e7ccabbe84f05e44a581f6899b2d3b1741ca6fd9332"
  },
  "kernelspec": {
   "display_name": "Python 3.9.7 ('base')",
   "language": "python",
   "name": "python3"
  },
  "language_info": {
   "codemirror_mode": {
    "name": "ipython",
    "version": 3
   },
   "file_extension": ".py",
   "mimetype": "text/x-python",
   "name": "python",
   "nbconvert_exporter": "python",
   "pygments_lexer": "ipython3",
   "version": "3.9.7"
  },
  "orig_nbformat": 4
 },
 "nbformat": 4,
 "nbformat_minor": 2
}
