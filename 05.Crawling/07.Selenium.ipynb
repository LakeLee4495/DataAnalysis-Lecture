{
 "cells": [
  {
   "cell_type": "code",
   "execution_count": null,
   "metadata": {},
   "outputs": [],
   "source": [
    "# 브라우저를 통해서 할 수 있는 모든일을 자동화하여 처리할 수 있음\n",
    "# 입력 가능(마우스 이동/클릭, 키보드 입력 등)\n",
    "# 브라우저를 띄우지 않고도 실행 가능\n",
    "# 웹 로딩시 시간이 걸리므로 프로그래밍시 주의 필요\n",
    "# 끝내기 전에 브라우저를 닫아야 함(driver.close())"
   ]
  }
 ],
 "metadata": {
  "language_info": {
   "name": "python"
  },
  "orig_nbformat": 4
 },
 "nbformat": 4,
 "nbformat_minor": 2
}
