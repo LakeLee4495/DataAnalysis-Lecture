{
 "cells": [
  {
   "cell_type": "code",
   "execution_count": 189,
   "metadata": {},
   "outputs": [],
   "source": [
    "import folium\n",
    "import pandas as pd\n",
    "import requests\n",
    "from urllib.parse import quote\n",
    "import json"
   ]
  },
  {
   "cell_type": "code",
   "execution_count": 190,
   "metadata": {},
   "outputs": [],
   "source": [
    "with open('roadapikey.txt') as file:\n",
    "    road_key = file.read()\n",
    "with open('kakaoapikey.txt') as file:\n",
    "    kakao_key = file.read()"
   ]
  },
  {
   "cell_type": "code",
   "execution_count": 191,
   "metadata": {},
   "outputs": [
    {
     "data": {
      "text/plain": [
       "'https://www.juso.go.kr/addrlink/addrLinkApiJsonp.do?confmKey=devU01TX0FVVEgyMDIyMDQxMzExNTYwMTExMjQ1OTg=&currentPage=1&countPerPage=10&keyword=%EC%84%9C%EC%B4%88%EA%B5%AC%EC%B2%AD&resultType=json'"
      ]
     },
     "execution_count": 191,
     "metadata": {},
     "output_type": "execute_result"
    }
   ],
   "source": [
    "road_url = 'https://www.juso.go.kr/addrlink/addrLinkApiJsonp.do'\n",
    "params1 = f'confmKey={road_key}&currentPage=1&countPerPage=10'\n",
    "params2 = f\"keyword={quote('서초구청')}&resultType=json\"\n",
    "url = f'{road_url}?{params1}&{params2}'\n",
    "url"
   ]
  },
  {
   "cell_type": "code",
   "execution_count": 192,
   "metadata": {},
   "outputs": [
    {
     "ename": "IndexError",
     "evalue": "list index out of range",
     "output_type": "error",
     "traceback": [
      "\u001b[1;31m---------------------------------------------------------------------------\u001b[0m",
      "\u001b[1;31mIndexError\u001b[0m                                Traceback (most recent call last)",
      "\u001b[1;32m~\\AppData\\Local\\Temp/ipykernel_22200/1978609643.py\u001b[0m in \u001b[0;36m<module>\u001b[1;34m\u001b[0m\n\u001b[0;32m      5\u001b[0m     \u001b[0mresult\u001b[0m \u001b[1;33m=\u001b[0m \u001b[0mrequests\u001b[0m\u001b[1;33m.\u001b[0m\u001b[0mget\u001b[0m\u001b[1;33m(\u001b[0m\u001b[0murl\u001b[0m\u001b[1;33m)\u001b[0m\u001b[1;33m\u001b[0m\u001b[1;33m\u001b[0m\u001b[0m\n\u001b[0;32m      6\u001b[0m     \u001b[0mres\u001b[0m \u001b[1;33m=\u001b[0m \u001b[0mjson\u001b[0m\u001b[1;33m.\u001b[0m\u001b[0mloads\u001b[0m\u001b[1;33m(\u001b[0m\u001b[0mresult\u001b[0m\u001b[1;33m.\u001b[0m\u001b[0mtext\u001b[0m\u001b[1;33m[\u001b[0m\u001b[1;36m1\u001b[0m\u001b[1;33m:\u001b[0m\u001b[1;33m-\u001b[0m\u001b[1;36m1\u001b[0m\u001b[1;33m]\u001b[0m\u001b[1;33m)\u001b[0m\u001b[1;33m\u001b[0m\u001b[1;33m\u001b[0m\u001b[0m\n\u001b[1;32m----> 7\u001b[1;33m     \u001b[0maddr\u001b[0m \u001b[1;33m=\u001b[0m \u001b[0mres\u001b[0m\u001b[1;33m[\u001b[0m\u001b[1;34m'results'\u001b[0m\u001b[1;33m]\u001b[0m\u001b[1;33m[\u001b[0m\u001b[1;34m'juso'\u001b[0m\u001b[1;33m]\u001b[0m\u001b[1;33m[\u001b[0m\u001b[1;36m0\u001b[0m\u001b[1;33m]\u001b[0m\u001b[1;33m[\u001b[0m\u001b[1;34m'roadAddr'\u001b[0m\u001b[1;33m]\u001b[0m\u001b[1;33m\u001b[0m\u001b[1;33m\u001b[0m\u001b[0m\n\u001b[0m\u001b[0;32m      8\u001b[0m     \u001b[0maddr_list\u001b[0m\u001b[1;33m.\u001b[0m\u001b[0mappend\u001b[0m\u001b[1;33m(\u001b[0m\u001b[0maddr\u001b[0m\u001b[1;33m)\u001b[0m\u001b[1;33m\u001b[0m\u001b[1;33m\u001b[0m\u001b[0m\n",
      "\u001b[1;31mIndexError\u001b[0m: list index out of range"
     ]
    }
   ],
   "source": [
    "places = '신림역, 영등포역, 합정역, 강남역, 사당역, 서울대입구역'.split(', ')\n",
    "addr_list = []\n",
    "for place in places:\n",
    "    url = f'{road_url}?{params1}&keyword={quote(place)}&resultType=json'\n",
    "    result = requests.get(url)\n",
    "    res = json.loads(result.text[1:-1]) \n",
    "    addr = res['results']['juso'][0]['roadAddr']\n",
    "    addr_list.append(addr)"
   ]
  },
  {
   "cell_type": "code",
   "execution_count": 193,
   "metadata": {},
   "outputs": [
    {
     "data": {
      "text/plain": [
       "['서울특별시 관악구 신림로 347(신림동)',\n",
       " '서울특별시 영등포구 경인로 지하843(영등포동3가)',\n",
       " '서울특별시 마포구 양화로 지하45(합정동)',\n",
       " '서울특별시 강남구 강남대로 328(역삼동)',\n",
       " '서울특별시 관악구 남부순환로 2080(남현동)']"
      ]
     },
     "execution_count": 193,
     "metadata": {},
     "output_type": "execute_result"
    }
   ],
   "source": [
    "addr_list\n"
   ]
  },
  {
   "cell_type": "code",
   "execution_count": 194,
   "metadata": {},
   "outputs": [
    {
     "ename": "ValueError",
     "evalue": "All arrays must be of the same length",
     "output_type": "error",
     "traceback": [
      "\u001b[1;31m---------------------------------------------------------------------------\u001b[0m",
      "\u001b[1;31mValueError\u001b[0m                                Traceback (most recent call last)",
      "\u001b[1;32m~\\AppData\\Local\\Temp/ipykernel_22200/3530445783.py\u001b[0m in \u001b[0;36m<module>\u001b[1;34m\u001b[0m\n\u001b[1;32m----> 1\u001b[1;33m \u001b[0mdf\u001b[0m \u001b[1;33m=\u001b[0m \u001b[0mpd\u001b[0m\u001b[1;33m.\u001b[0m\u001b[0mDataFrame\u001b[0m\u001b[1;33m(\u001b[0m\u001b[1;33m{\u001b[0m\u001b[1;34m'장소'\u001b[0m\u001b[1;33m:\u001b[0m\u001b[0mplaces\u001b[0m\u001b[1;33m,\u001b[0m \u001b[1;34m'도로명주소'\u001b[0m\u001b[1;33m:\u001b[0m\u001b[0maddr_list\u001b[0m\u001b[1;33m}\u001b[0m\u001b[1;33m)\u001b[0m\u001b[1;33m\u001b[0m\u001b[1;33m\u001b[0m\u001b[0m\n\u001b[0m\u001b[0;32m      2\u001b[0m \u001b[0mdf\u001b[0m\u001b[1;33m\u001b[0m\u001b[1;33m\u001b[0m\u001b[0m\n",
      "\u001b[1;32m~\\anaconda3\\lib\\site-packages\\pandas\\core\\frame.py\u001b[0m in \u001b[0;36m__init__\u001b[1;34m(self, data, index, columns, dtype, copy)\u001b[0m\n\u001b[0;32m    612\u001b[0m         \u001b[1;32melif\u001b[0m \u001b[0misinstance\u001b[0m\u001b[1;33m(\u001b[0m\u001b[0mdata\u001b[0m\u001b[1;33m,\u001b[0m \u001b[0mdict\u001b[0m\u001b[1;33m)\u001b[0m\u001b[1;33m:\u001b[0m\u001b[1;33m\u001b[0m\u001b[1;33m\u001b[0m\u001b[0m\n\u001b[0;32m    613\u001b[0m             \u001b[1;31m# GH#38939 de facto copy defaults to False only in non-dict cases\u001b[0m\u001b[1;33m\u001b[0m\u001b[1;33m\u001b[0m\u001b[0m\n\u001b[1;32m--> 614\u001b[1;33m             \u001b[0mmgr\u001b[0m \u001b[1;33m=\u001b[0m \u001b[0mdict_to_mgr\u001b[0m\u001b[1;33m(\u001b[0m\u001b[0mdata\u001b[0m\u001b[1;33m,\u001b[0m \u001b[0mindex\u001b[0m\u001b[1;33m,\u001b[0m \u001b[0mcolumns\u001b[0m\u001b[1;33m,\u001b[0m \u001b[0mdtype\u001b[0m\u001b[1;33m=\u001b[0m\u001b[0mdtype\u001b[0m\u001b[1;33m,\u001b[0m \u001b[0mcopy\u001b[0m\u001b[1;33m=\u001b[0m\u001b[0mcopy\u001b[0m\u001b[1;33m,\u001b[0m \u001b[0mtyp\u001b[0m\u001b[1;33m=\u001b[0m\u001b[0mmanager\u001b[0m\u001b[1;33m)\u001b[0m\u001b[1;33m\u001b[0m\u001b[1;33m\u001b[0m\u001b[0m\n\u001b[0m\u001b[0;32m    615\u001b[0m         \u001b[1;32melif\u001b[0m \u001b[0misinstance\u001b[0m\u001b[1;33m(\u001b[0m\u001b[0mdata\u001b[0m\u001b[1;33m,\u001b[0m \u001b[0mma\u001b[0m\u001b[1;33m.\u001b[0m\u001b[0mMaskedArray\u001b[0m\u001b[1;33m)\u001b[0m\u001b[1;33m:\u001b[0m\u001b[1;33m\u001b[0m\u001b[1;33m\u001b[0m\u001b[0m\n\u001b[0;32m    616\u001b[0m             \u001b[1;32mimport\u001b[0m \u001b[0mnumpy\u001b[0m\u001b[1;33m.\u001b[0m\u001b[0mma\u001b[0m\u001b[1;33m.\u001b[0m\u001b[0mmrecords\u001b[0m \u001b[1;32mas\u001b[0m \u001b[0mmrecords\u001b[0m\u001b[1;33m\u001b[0m\u001b[1;33m\u001b[0m\u001b[0m\n",
      "\u001b[1;32m~\\anaconda3\\lib\\site-packages\\pandas\\core\\internals\\construction.py\u001b[0m in \u001b[0;36mdict_to_mgr\u001b[1;34m(data, index, columns, dtype, typ, copy)\u001b[0m\n\u001b[0;32m    462\u001b[0m         \u001b[1;31m# TODO: can we get rid of the dt64tz special case above?\u001b[0m\u001b[1;33m\u001b[0m\u001b[1;33m\u001b[0m\u001b[0m\n\u001b[0;32m    463\u001b[0m \u001b[1;33m\u001b[0m\u001b[0m\n\u001b[1;32m--> 464\u001b[1;33m     return arrays_to_mgr(\n\u001b[0m\u001b[0;32m    465\u001b[0m         \u001b[0marrays\u001b[0m\u001b[1;33m,\u001b[0m \u001b[0mdata_names\u001b[0m\u001b[1;33m,\u001b[0m \u001b[0mindex\u001b[0m\u001b[1;33m,\u001b[0m \u001b[0mcolumns\u001b[0m\u001b[1;33m,\u001b[0m \u001b[0mdtype\u001b[0m\u001b[1;33m=\u001b[0m\u001b[0mdtype\u001b[0m\u001b[1;33m,\u001b[0m \u001b[0mtyp\u001b[0m\u001b[1;33m=\u001b[0m\u001b[0mtyp\u001b[0m\u001b[1;33m,\u001b[0m \u001b[0mconsolidate\u001b[0m\u001b[1;33m=\u001b[0m\u001b[0mcopy\u001b[0m\u001b[1;33m\u001b[0m\u001b[1;33m\u001b[0m\u001b[0m\n\u001b[0;32m    466\u001b[0m     )\n",
      "\u001b[1;32m~\\anaconda3\\lib\\site-packages\\pandas\\core\\internals\\construction.py\u001b[0m in \u001b[0;36marrays_to_mgr\u001b[1;34m(arrays, arr_names, index, columns, dtype, verify_integrity, typ, consolidate)\u001b[0m\n\u001b[0;32m    117\u001b[0m         \u001b[1;31m# figure out the index, if necessary\u001b[0m\u001b[1;33m\u001b[0m\u001b[1;33m\u001b[0m\u001b[0m\n\u001b[0;32m    118\u001b[0m         \u001b[1;32mif\u001b[0m \u001b[0mindex\u001b[0m \u001b[1;32mis\u001b[0m \u001b[1;32mNone\u001b[0m\u001b[1;33m:\u001b[0m\u001b[1;33m\u001b[0m\u001b[1;33m\u001b[0m\u001b[0m\n\u001b[1;32m--> 119\u001b[1;33m             \u001b[0mindex\u001b[0m \u001b[1;33m=\u001b[0m \u001b[0m_extract_index\u001b[0m\u001b[1;33m(\u001b[0m\u001b[0marrays\u001b[0m\u001b[1;33m)\u001b[0m\u001b[1;33m\u001b[0m\u001b[1;33m\u001b[0m\u001b[0m\n\u001b[0m\u001b[0;32m    120\u001b[0m         \u001b[1;32melse\u001b[0m\u001b[1;33m:\u001b[0m\u001b[1;33m\u001b[0m\u001b[1;33m\u001b[0m\u001b[0m\n\u001b[0;32m    121\u001b[0m             \u001b[0mindex\u001b[0m \u001b[1;33m=\u001b[0m \u001b[0mensure_index\u001b[0m\u001b[1;33m(\u001b[0m\u001b[0mindex\u001b[0m\u001b[1;33m)\u001b[0m\u001b[1;33m\u001b[0m\u001b[1;33m\u001b[0m\u001b[0m\n",
      "\u001b[1;32m~\\anaconda3\\lib\\site-packages\\pandas\\core\\internals\\construction.py\u001b[0m in \u001b[0;36m_extract_index\u001b[1;34m(data)\u001b[0m\n\u001b[0;32m    633\u001b[0m             \u001b[0mlengths\u001b[0m \u001b[1;33m=\u001b[0m \u001b[0mlist\u001b[0m\u001b[1;33m(\u001b[0m\u001b[0mset\u001b[0m\u001b[1;33m(\u001b[0m\u001b[0mraw_lengths\u001b[0m\u001b[1;33m)\u001b[0m\u001b[1;33m)\u001b[0m\u001b[1;33m\u001b[0m\u001b[1;33m\u001b[0m\u001b[0m\n\u001b[0;32m    634\u001b[0m             \u001b[1;32mif\u001b[0m \u001b[0mlen\u001b[0m\u001b[1;33m(\u001b[0m\u001b[0mlengths\u001b[0m\u001b[1;33m)\u001b[0m \u001b[1;33m>\u001b[0m \u001b[1;36m1\u001b[0m\u001b[1;33m:\u001b[0m\u001b[1;33m\u001b[0m\u001b[1;33m\u001b[0m\u001b[0m\n\u001b[1;32m--> 635\u001b[1;33m                 \u001b[1;32mraise\u001b[0m \u001b[0mValueError\u001b[0m\u001b[1;33m(\u001b[0m\u001b[1;34m\"All arrays must be of the same length\"\u001b[0m\u001b[1;33m)\u001b[0m\u001b[1;33m\u001b[0m\u001b[1;33m\u001b[0m\u001b[0m\n\u001b[0m\u001b[0;32m    636\u001b[0m \u001b[1;33m\u001b[0m\u001b[0m\n\u001b[0;32m    637\u001b[0m             \u001b[1;32mif\u001b[0m \u001b[0mhave_dicts\u001b[0m\u001b[1;33m:\u001b[0m\u001b[1;33m\u001b[0m\u001b[1;33m\u001b[0m\u001b[0m\n",
      "\u001b[1;31mValueError\u001b[0m: All arrays must be of the same length"
     ]
    }
   ],
   "source": [
    "df = pd.DataFrame({'장소':places, '도로명주소':addr_list})\n",
    "df"
   ]
  },
  {
   "cell_type": "code",
   "execution_count": 147,
   "metadata": {},
   "outputs": [
    {
     "data": {
      "text/plain": [
       "['서울특별시 송파구 올림픽로 지하23(잠실동)',\n",
       " '서울특별시 구로구 경인로 430(고척동)',\n",
       " '인천광역시 미추홀구 매소홀로 618(문학동)']"
      ]
     },
     "execution_count": 147,
     "metadata": {},
     "output_type": "execute_result"
    }
   ],
   "source": [
    "addr_list"
   ]
  },
  {
   "cell_type": "code",
   "execution_count": 24,
   "metadata": {},
   "outputs": [
    {
     "data": {
      "text/plain": [
       "200"
      ]
     },
     "execution_count": 24,
     "metadata": {},
     "output_type": "execute_result"
    }
   ],
   "source": [
    "result = requests.get(url)\n",
    "result.status_code"
   ]
  },
  {
   "cell_type": "code",
   "execution_count": 25,
   "metadata": {},
   "outputs": [
    {
     "data": {
      "text/plain": [
       "{'results': {'common': {'errorMessage': '정상',\n",
       "   'countPerPage': '10',\n",
       "   'totalCount': '4',\n",
       "   'errorCode': '0',\n",
       "   'currentPage': '1'},\n",
       "  'juso': [{'detBdNmList': '잠실실내체육관,잠실학생체육관,체조관,제2수영장,잠실야구장,잠실실내수영장,잠실주경기장',\n",
       "    'engAddr': '25, Olympic-ro, Songpa-gu, Seoul',\n",
       "    'rn': '올림픽로',\n",
       "    'emdNm': '잠실동',\n",
       "    'zipNo': '05500',\n",
       "    'roadAddrPart2': '(잠실동)',\n",
       "    'emdNo': '01',\n",
       "    'sggNm': '송파구',\n",
       "    'jibunAddr': '서울특별시 송파구 잠실동 10 서울종합운동장',\n",
       "    'siNm': '서울특별시',\n",
       "    'roadAddrPart1': '서울특별시 송파구 올림픽로 25',\n",
       "    'bdNm': '서울종합운동장',\n",
       "    'admCd': '1171010100',\n",
       "    'udrtYn': '0',\n",
       "    'lnbrMnnm': '10',\n",
       "    'roadAddr': '서울특별시 송파구 올림픽로 25(잠실동)',\n",
       "    'lnbrSlno': '0',\n",
       "    'buldMnnm': '25',\n",
       "    'bdKdcd': '0',\n",
       "    'liNm': '',\n",
       "    'rnMgtSn': '117103123023',\n",
       "    'mtYn': '0',\n",
       "    'bdMgtSn': '1171010100100100000000519',\n",
       "    'buldSlno': '0'},\n",
       "   {'detBdNmList': '',\n",
       "    'engAddr': '25, Olympic-ro 10-gil, Songpa-gu, Seoul',\n",
       "    'rn': '올림픽로10길',\n",
       "    'emdNm': '잠실동',\n",
       "    'zipNo': '05563',\n",
       "    'roadAddrPart2': '(잠실동)',\n",
       "    'emdNo': '01',\n",
       "    'sggNm': '송파구',\n",
       "    'jibunAddr': '서울특별시 송파구 잠실동 201-1',\n",
       "    'siNm': '서울특별시',\n",
       "    'roadAddrPart1': '서울특별시 송파구 올림픽로10길 25',\n",
       "    'bdNm': '',\n",
       "    'admCd': '1171010100',\n",
       "    'udrtYn': '0',\n",
       "    'lnbrMnnm': '201',\n",
       "    'roadAddr': '서울특별시 송파구 올림픽로10길 25(잠실동)',\n",
       "    'lnbrSlno': '1',\n",
       "    'buldMnnm': '25',\n",
       "    'bdKdcd': '1',\n",
       "    'liNm': '',\n",
       "    'rnMgtSn': '117104169426',\n",
       "    'mtYn': '0',\n",
       "    'bdMgtSn': '1171010100102010001002396',\n",
       "    'buldSlno': '0'},\n",
       "   {'detBdNmList': '',\n",
       "    'engAddr': '25, Olympic-ro 12-gil, Songpa-gu, Seoul',\n",
       "    'rn': '올림픽로12길',\n",
       "    'emdNm': '잠실동',\n",
       "    'zipNo': '05559',\n",
       "    'roadAddrPart2': '(잠실동)',\n",
       "    'emdNo': '01',\n",
       "    'sggNm': '송파구',\n",
       "    'jibunAddr': '서울특별시 송파구 잠실동 205-2',\n",
       "    'siNm': '서울특별시',\n",
       "    'roadAddrPart1': '서울특별시 송파구 올림픽로12길 25',\n",
       "    'bdNm': '',\n",
       "    'admCd': '1171010100',\n",
       "    'udrtYn': '0',\n",
       "    'lnbrMnnm': '205',\n",
       "    'roadAddr': '서울특별시 송파구 올림픽로12길 25(잠실동)',\n",
       "    'lnbrSlno': '2',\n",
       "    'buldMnnm': '25',\n",
       "    'bdKdcd': '0',\n",
       "    'liNm': '',\n",
       "    'rnMgtSn': '117104169427',\n",
       "    'mtYn': '0',\n",
       "    'bdMgtSn': '1171010100102050002000867',\n",
       "    'buldSlno': '0'},\n",
       "   {'detBdNmList': '',\n",
       "    'engAddr': '25, Olympic-ro 34-gil, Songpa-gu, Seoul',\n",
       "    'rn': '올림픽로34길',\n",
       "    'emdNm': '방이동',\n",
       "    'zipNo': '05547',\n",
       "    'roadAddrPart2': '(방이동)',\n",
       "    'emdNo': '01',\n",
       "    'sggNm': '송파구',\n",
       "    'jibunAddr': '서울특별시 송파구 방이동 57-20',\n",
       "    'siNm': '서울특별시',\n",
       "    'roadAddrPart1': '서울특별시 송파구 올림픽로34길 25',\n",
       "    'bdNm': '',\n",
       "    'admCd': '1171011100',\n",
       "    'udrtYn': '0',\n",
       "    'lnbrMnnm': '57',\n",
       "    'roadAddr': '서울특별시 송파구 올림픽로34길 25(방이동)',\n",
       "    'lnbrSlno': '20',\n",
       "    'buldMnnm': '25',\n",
       "    'bdKdcd': '1',\n",
       "    'liNm': '',\n",
       "    'rnMgtSn': '117104169431',\n",
       "    'mtYn': '0',\n",
       "    'bdMgtSn': '1171011100100570020027299',\n",
       "    'buldSlno': '0'}]}}"
      ]
     },
     "execution_count": 25,
     "metadata": {},
     "output_type": "execute_result"
    }
   ],
   "source": [
    "import json\n",
    "res = json.loads(result.text[1:-1])\n",
    "res"
   ]
  },
  {
   "cell_type": "code",
   "execution_count": 26,
   "metadata": {},
   "outputs": [
    {
     "data": {
      "text/plain": [
       "'({\"results\":{\"common\":{\"errorMessage\":\"정상\",\"countPerPage\":\"10\",\"totalCount\":\"4\",\"errorCode\":\"0\",\"currentPage\":\"1\"},\"juso\":[{\"detBdNmList\":\"잠실실내체육관,잠실학생체육관,체조관,제2수영장,잠실야구장,잠실실내수영장,잠실주경기장\",\"engAddr\":\"25, Olympic-ro, Songpa-gu, Seoul\",\"rn\":\"올림픽로\",\"emdNm\":\"잠실동\",\"zipNo\":\"05500\",\"roadAddrPart2\":\"(잠실동)\",\"emdNo\":\"01\",\"sggNm\":\"송파구\",\"jibunAddr\":\"서울특별시 송파구 잠실동 10 서울종합운동장\",\"siNm\":\"서울특별시\",\"roadAddrPart1\":\"서울특별시 송파구 올림픽로 25\",\"bdNm\":\"서울종합운동장\",\"admCd\":\"1171010100\",\"udrtYn\":\"0\",\"lnbrMnnm\":\"10\",\"roadAddr\":\"서울특별시 송파구 올림픽로 25(잠실동)\",\"lnbrSlno\":\"0\",\"buldMnnm\":\"25\",\"bdKdcd\":\"0\",\"liNm\":\"\",\"rnMgtSn\":\"117103123023\",\"mtYn\":\"0\",\"bdMgtSn\":\"1171010100100100000000519\",\"buldSlno\":\"0\"},{\"detBdNmList\":\"\",\"engAddr\":\"25, Olympic-ro 10-gil, Songpa-gu, Seoul\",\"rn\":\"올림픽로10길\",\"emdNm\":\"잠실동\",\"zipNo\":\"05563\",\"roadAddrPart2\":\"(잠실동)\",\"emdNo\":\"01\",\"sggNm\":\"송파구\",\"jibunAddr\":\"서울특별시 송파구 잠실동 201-1\",\"siNm\":\"서울특별시\",\"roadAddrPart1\":\"서울특별시 송파구 올림픽로10길 25\",\"bdNm\":\"\",\"admCd\":\"1171010100\",\"udrtYn\":\"0\",\"lnbrMnnm\":\"201\",\"roadAddr\":\"서울특별시 송파구 올림픽로10길 25(잠실동)\",\"lnbrSlno\":\"1\",\"buldMnnm\":\"25\",\"bdKdcd\":\"1\",\"liNm\":\"\",\"rnMgtSn\":\"117104169426\",\"mtYn\":\"0\",\"bdMgtSn\":\"1171010100102010001002396\",\"buldSlno\":\"0\"},{\"detBdNmList\":\"\",\"engAddr\":\"25, Olympic-ro 12-gil, Songpa-gu, Seoul\",\"rn\":\"올림픽로12길\",\"emdNm\":\"잠실동\",\"zipNo\":\"05559\",\"roadAddrPart2\":\"(잠실동)\",\"emdNo\":\"01\",\"sggNm\":\"송파구\",\"jibunAddr\":\"서울특별시 송파구 잠실동 205-2\",\"siNm\":\"서울특별시\",\"roadAddrPart1\":\"서울특별시 송파구 올림픽로12길 25\",\"bdNm\":\"\",\"admCd\":\"1171010100\",\"udrtYn\":\"0\",\"lnbrMnnm\":\"205\",\"roadAddr\":\"서울특별시 송파구 올림픽로12길 25(잠실동)\",\"lnbrSlno\":\"2\",\"buldMnnm\":\"25\",\"bdKdcd\":\"0\",\"liNm\":\"\",\"rnMgtSn\":\"117104169427\",\"mtYn\":\"0\",\"bdMgtSn\":\"1171010100102050002000867\",\"buldSlno\":\"0\"},{\"detBdNmList\":\"\",\"engAddr\":\"25, Olympic-ro 34-gil, Songpa-gu, Seoul\",\"rn\":\"올림픽로34길\",\"emdNm\":\"방이동\",\"zipNo\":\"05547\",\"roadAddrPart2\":\"(방이동)\",\"emdNo\":\"01\",\"sggNm\":\"송파구\",\"jibunAddr\":\"서울특별시 송파구 방이동 57-20\",\"siNm\":\"서울특별시\",\"roadAddrPart1\":\"서울특별시 송파구 올림픽로34길 25\",\"bdNm\":\"\",\"admCd\":\"1171011100\",\"udrtYn\":\"0\",\"lnbrMnnm\":\"57\",\"roadAddr\":\"서울특별시 송파구 올림픽로34길 25(방이동)\",\"lnbrSlno\":\"20\",\"buldMnnm\":\"25\",\"bdKdcd\":\"1\",\"liNm\":\"\",\"rnMgtSn\":\"117104169431\",\"mtYn\":\"0\",\"bdMgtSn\":\"1171011100100570020027299\",\"buldSlno\":\"0\"}]}})'"
      ]
     },
     "execution_count": 26,
     "metadata": {},
     "output_type": "execute_result"
    }
   ],
   "source": [
    "result.text"
   ]
  },
  {
   "cell_type": "code",
   "execution_count": 30,
   "metadata": {},
   "outputs": [
    {
     "name": "stdout",
     "output_type": "stream",
     "text": [
      "서울특별시 송파구 올림픽로 25(잠실동)\n",
      "서울특별시 송파구 올림픽로10길 25(잠실동)\n",
      "서울특별시 송파구 올림픽로12길 25(잠실동)\n"
     ]
    }
   ],
   "source": [
    "print(res['results']['juso'][0]['roadAddr'])\n",
    "print(res['results']['juso'][1]['roadAddr'])\n",
    "print(res['results']['juso'][2]['roadAddr'])"
   ]
  }
 ],
 "metadata": {
  "interpreter": {
   "hash": "a55677fa32ee009990947e7ccabbe84f05e44a581f6899b2d3b1741ca6fd9332"
  },
  "kernelspec": {
   "display_name": "Python 3.9.7 ('base')",
   "language": "python",
   "name": "python3"
  },
  "language_info": {
   "codemirror_mode": {
    "name": "ipython",
    "version": 3
   },
   "file_extension": ".py",
   "mimetype": "text/x-python",
   "name": "python",
   "nbconvert_exporter": "python",
   "pygments_lexer": "ipython3",
   "version": "3.9.7"
  },
  "orig_nbformat": 4
 },
 "nbformat": 4,
 "nbformat_minor": 2
}
