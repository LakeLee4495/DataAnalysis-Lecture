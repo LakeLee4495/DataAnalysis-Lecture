{
 "cells": [
  {
   "cell_type": "markdown",
   "metadata": {},
   "source": [
    "# 텍스트 전처리"
   ]
  },
  {
   "cell_type": "markdown",
   "metadata": {},
   "source": [
    "## KoNLPy 설치\n",
    "- 'Konlpy 오류시 참고'로 검색\n",
    "- jpype download(https://www.lfd.uci.edu/~gohlke/pythonlibs/#jpype)\n",
    "- 본인의 파이썬 버전에 맞게 설치(예: Python 3.8)\n",
    "- version: JPype1-1.1.2-cp38-cp38-win_amd64.whl\n",
    "- download 프로그램이 있는 디렉토리로 이동\n",
    "- pip install JPype1-1.1.2-cp38-cp38-win_amd64.whl\n",
    "- conda activate base\n",
    "- pip install konlpy\n",
    "- 관리자 권한으로 cmd 실행\n",
    "- pip install tweepy==3.10.0\n",
    "- vscode 재실행"
   ]
  }
 ],
 "metadata": {
  "language_info": {
   "name": "python"
  },
  "orig_nbformat": 4
 },
 "nbformat": 4,
 "nbformat_minor": 2
}
