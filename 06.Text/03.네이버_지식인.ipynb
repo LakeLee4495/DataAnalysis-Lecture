{
 "cells": [
  {
   "cell_type": "markdown",
   "metadata": {},
   "source": [
    "# 네이버 지식인 크롤링"
   ]
  },
  {
   "cell_type": "code",
   "execution_count": 46,
   "metadata": {},
   "outputs": [],
   "source": [
    "from selenium import webdriver\n",
    "from bs4 import BeautifulSoup\n",
    "import time\n",
    "from urllib.parse import quote\n",
    "from tqdm.notebook import tqdm"
   ]
  },
  {
   "cell_type": "code",
   "execution_count": 49,
   "metadata": {},
   "outputs": [],
   "source": [
    "chromedriver = 'D:/Workspace/DataAnalysis/05.Crawling/chromedriver.exe'\n",
    "driver = webdriver.Chrome(chromedriver)"
   ]
  },
  {
   "cell_type": "code",
   "execution_count": 51,
   "metadata": {},
   "outputs": [],
   "source": [
    "base_url = 'https://kin.naver.com/search/list.naver?query='\n",
    "url = base_url + quote('여친선물')\n",
    "driver.get(url)\n",
    "soup = BeautifulSoup(driver.page_source, 'html.parser')"
   ]
  },
  {
   "cell_type": "code",
   "execution_count": 52,
   "metadata": {},
   "outputs": [
    {
     "data": {
      "text/plain": [
       "10"
      ]
     },
     "execution_count": 52,
     "metadata": {},
     "output_type": "execute_result"
    }
   ],
   "source": [
    "lis = soup.select('ul.basic1 > li')\n",
    "len(lis)"
   ]
  },
  {
   "cell_type": "code",
   "execution_count": 44,
   "metadata": {},
   "outputs": [
    {
     "data": {
      "text/plain": [
       "'https://kin.naver.com/qna/detail.naver?d1id=8&dirId=80101&docId=395035694&qb=7Jes7Lmc7ISg66y8&enc=utf8&section=kin&rank=1&search_sort=0&spq=0'"
      ]
     },
     "execution_count": 44,
     "metadata": {},
     "output_type": "execute_result"
    }
   ],
   "source": [
    "li = lis[0]\n",
    "sub_url = li.select_one('a._searchListTitleAnchor')['href']\n",
    "sub_url"
   ]
  },
  {
   "cell_type": "code",
   "execution_count": 54,
   "metadata": {},
   "outputs": [],
   "source": [
    "driver.get(sub_url)\n",
    "time.sleep(2)"
   ]
  },
  {
   "cell_type": "code",
   "execution_count": 57,
   "metadata": {},
   "outputs": [
    {
     "name": "stdout",
     "output_type": "stream",
     "text": [
      "8 1\n"
     ]
    }
   ],
   "source": [
    "count = int(driver.find_element_by_css_selector('._answerCount.num').text)\n",
    "answer_page = (count - 1) // 5                          # 5개 답변\n",
    "print(count, answer_page)                               # answer_page = 더보기 탭 갯수"
   ]
  },
  {
   "cell_type": "code",
   "execution_count": 27,
   "metadata": {},
   "outputs": [],
   "source": [
    "for i in range(answer_page):\n",
    "    driver.find_element_by_id('nextPageButton').click()\n",
    "    time.sleep(2)"
   ]
  },
  {
   "cell_type": "code",
   "execution_count": 64,
   "metadata": {},
   "outputs": [
    {
     "data": {
      "text/plain": [
       "5"
      ]
     },
     "execution_count": 64,
     "metadata": {},
     "output_type": "execute_result"
    }
   ],
   "source": [
    "divs = soup.select('div.answer-content__item._contentWrap._answer')\n",
    "len(divs)"
   ]
  },
  {
   "cell_type": "code",
   "execution_count": 65,
   "metadata": {},
   "outputs": [
    {
     "name": "stdout",
     "output_type": "stream",
     "text": [
      "혹시 여친분이 생리통이 있으시다면..여친선물로 복부온열기 어떠세요?\n",
      "저 생리통 너무 심해서 이번에 남자친구가 복부온열기 선물줬는데..\n",
      "뭔가 감동이더라구요. 절 많이 생각해서 준 선물 같이 느껴지더라구요.\n",
      "하고있으면 배가 뜨듯하고 진동마사지도 해줘서 생리통 거의 안느껴지고 좋아요!!\n",
      "​\n",
      "제가 쓰는건 배뜨끈 복부온열기이예요. 아래에 링크알려드릴게요.\n",
      "좋은 여친선물이 되셨으면 좋겠네요.\n"
     ]
    }
   ],
   "source": [
    "div = divs[0]\n",
    "ps = div.select('p.se-text-paragraph')\n",
    "for p in ps:\n",
    "    print(p.get_text())"
   ]
  },
  {
   "cell_type": "code",
   "execution_count": 69,
   "metadata": {},
   "outputs": [
    {
     "data": {
      "text/plain": [
       "<p class=\"se-text-paragraph se-text-paragraph-align-\" id=\"SE-42015bc3-7bef-455d-a76d-2bfdf3237560\" style=\"\"><span class=\"se-fs- se-ff-\" id=\"SE-c12a6038-91dd-45db-9fa5-68e6019b3e30\" style=\"\">안녕하세요, 공연기획사 파릇입니다!</span></p>"
      ]
     },
     "execution_count": 69,
     "metadata": {},
     "output_type": "execute_result"
    }
   ],
   "source": [
    "divs[6].select('p.se-text-paragraph')[0]"
   ]
  },
  {
   "cell_type": "code",
   "execution_count": 68,
   "metadata": {},
   "outputs": [],
   "source": [
    "driver.back()\n",
    "time.sleep(2)"
   ]
  },
  {
   "cell_type": "code",
   "execution_count": 73,
   "metadata": {},
   "outputs": [
    {
     "name": "stdout",
     "output_type": "stream",
     "text": [
      "8, 8\n",
      "10, 10\n",
      "7, 7\n",
      "12, 12\n",
      "14, 14\n",
      "9, 9\n",
      "1, 1\n",
      "4, 4\n",
      "1, 1\n",
      "8, 8\n"
     ]
    }
   ],
   "source": [
    "answer_list = []\n",
    "for li in lis:\n",
    "    sub_url = li.select_one('a._searchListTitleAnchor')['href']\n",
    "    driver.get(sub_url)                 # 서브페이지 이동\n",
    "    time.sleep(2)\n",
    "\n",
    "    count = int(driver.find_element_by_css_selector('._answerCount.num').text)\n",
    "    answer_page = (count - 1) // 5\n",
    "    print(count, end=', ')                  # 답변갯수 구함         # count = answer 갯수\n",
    "    for i in range(answer_page):\n",
    "        driver.find_element_by_id('nextPageButton').click()\n",
    "        time.sleep(2)                       # 반복해서 answer 페이지에 모든 갯수를 화면에 나오게 함\n",
    "\n",
    "    soup = BeautifulSoup(driver.page_source, 'html.parser')\n",
    "    divs = soup.select('div.answer-content__item._contentWrap._answer')\n",
    "    print(len(divs))\n",
    "    for div in divs:\n",
    "        ps = div.select('p.se-text-paragraph')\n",
    "        paragraph = ''                                  # 데이터가 한 줄이아니라 여러줄로 나와야함\n",
    "        for p in ps:\n",
    "            text = p.get_text()\n",
    "            if text == ' ' or text == '\\u200b':\n",
    "                continue\n",
    "            paragraph += text + '\\n'                    # 데이터가 한 줄이아니라 여러줄로 나와야함2\n",
    "            answer_list.append(text)\n",
    "\n",
    "    driver.back()\n",
    "    time.sleep(2)"
   ]
  },
  {
   "cell_type": "code",
   "execution_count": 75,
   "metadata": {},
   "outputs": [
    {
     "data": {
      "text/plain": [
       "['네이버 선물하기로 카톡 선물하기처럼 보낼 수 있어요!!',\n",
       " '구경만이라도 해보세요:)',\n",
       " '채택도... 부탁드립니다',\n",
       " 'https://smartstore.naver.com/ppottuppttu',\n",
       " '안녕하세요.^^',\n",
       " '여자친구분 선물로 팔찌로 추천해드릴께요.',\n",
       " '크로노스',\n",
       " '크로노스 CRJ2018B-RG THICK 하트 팔찌 입니다.',\n",
       " '스텐레스 스틸 재질로 변질이 적으며 한쪽과 반대쪽을 다르게 디자인되어있으며',\n",
       " '하트 달랑이가 돋보이는 팔찌입니다.']"
      ]
     },
     "execution_count": 75,
     "metadata": {},
     "output_type": "execute_result"
    }
   ],
   "source": [
    "answer_list[100:110]"
   ]
  },
  {
   "cell_type": "markdown",
   "metadata": {},
   "source": [
    "## 1 ~ 10 페이지 데이터 한꺼번에 하기"
   ]
  },
  {
   "cell_type": "code",
   "execution_count": 78,
   "metadata": {},
   "outputs": [
    {
     "data": {
      "application/vnd.jupyter.widget-view+json": {
       "model_id": "8bc3600e1d224d89b24de129e3bab10d",
       "version_major": 2,
       "version_minor": 0
      },
      "text/plain": [
       "  0%|          | 0/10 [00:00<?, ?it/s]"
      ]
     },
     "metadata": {},
     "output_type": "display_data"
    }
   ],
   "source": [
    "answer_list = []\n",
    "for page in tqdm(range(1,11)):\n",
    "    #print('page', page)\n",
    "    url = f\"{base_url}{quote('여친선물')}&page={page}\"\n",
    "    driver.get(url)\n",
    "    time.sleep(2)\n",
    "\n",
    "    soup = BeautifulSoup(driver.page_source, 'html.parser')\n",
    "    lis = soup.select('ul.basic1 > li')\n",
    "\n",
    "    for li in lis:\n",
    "        sub_url = li.select_one('a._searchListTitleAnchor')['href']\n",
    "        driver.get(sub_url)\n",
    "        time.sleep(2)\n",
    "\n",
    "        count = int(driver.find_element_by_css_selector('._answerCount.num').text)\n",
    "        answer_page = (count - 1) // 5\n",
    "        #print(count, end=', ')\n",
    "        for i in range(answer_page):\n",
    "            driver.find_element_by_id('nextPageButton').click()\n",
    "            time.sleep(2)\n",
    "\n",
    "        soup = BeautifulSoup(driver.page_source, 'html.parser')\n",
    "        divs = soup.select('div.answer-content__item._contentWrap._answer')\n",
    "        #print(len(divs))\n",
    "        for div in divs:\n",
    "            ps = div.select('p.se-text-paragraph')\n",
    "            paragraph = ''\n",
    "            for p in ps:\n",
    "                text = p.get_text()\n",
    "                if text == ' ' or text == '\\u200b':\n",
    "                    continue\n",
    "                paragraph += text + '\\n'\n",
    "            answer_list.append(paragraph)\n",
    "\n",
    "        driver.back()\n",
    "        time.sleep(2)"
   ]
  },
  {
   "cell_type": "code",
   "execution_count": null,
   "metadata": {},
   "outputs": [],
   "source": [
    "driver.close()"
   ]
  },
  {
   "cell_type": "code",
   "execution_count": 79,
   "metadata": {},
   "outputs": [
    {
     "data": {
      "text/plain": [
       "679"
      ]
     },
     "execution_count": 79,
     "metadata": {},
     "output_type": "execute_result"
    }
   ],
   "source": [
    "len(answer_list)"
   ]
  },
  {
   "cell_type": "code",
   "execution_count": 80,
   "metadata": {},
   "outputs": [
    {
     "data": {
      "text/plain": [
       "'혹시 여친분이 생리통이 있으시다면..여친선물로 복부온열기 어떠세요?\\n저 생리통 너무 심해서 이번에 남자친구가 복부온열기 선물줬는데..\\n뭔가 감동이더라구요. 절 많이 생각해서 준 선물 같이 느껴지더라구요.\\n하고있으면 배가 뜨듯하고 진동마사지도 해줘서 생리통 거의 안느껴지고 좋아요!!\\n제가 쓰는건 배뜨끈 복부온열기이예요. 아래에 링크알려드릴게요.\\n좋은 여친선물이 되셨으면 좋겠네요.\\n'"
      ]
     },
     "execution_count": 80,
     "metadata": {},
     "output_type": "execute_result"
    }
   ],
   "source": [
    "answer_list[0]"
   ]
  },
  {
   "cell_type": "code",
   "execution_count": 86,
   "metadata": {},
   "outputs": [],
   "source": [
    "with open('data/new_gift.txt', 'w', encoding='utf-8') as fp:\n",
    "    for answer in answer_list:\n",
    "        if answer[:8] == 'https: ':\n",
    "            continue\n",
    "        fp.write(answer+'\\n')"
   ]
  },
  {
   "cell_type": "code",
   "execution_count": 82,
   "metadata": {},
   "outputs": [],
   "source": [
    "driver.close()"
   ]
  },
  {
   "cell_type": "code",
   "execution_count": null,
   "metadata": {},
   "outputs": [],
   "source": []
  }
 ],
 "metadata": {
  "interpreter": {
   "hash": "f6166f463215e64b429f1bb3a736af8707701bc1ae586e0a6640ca3373a9970e"
  },
  "kernelspec": {
   "display_name": "Python 3.8.8 64-bit ('base': conda)",
   "name": "python3"
  },
  "language_info": {
   "codemirror_mode": {
    "name": "ipython",
    "version": 3
   },
   "file_extension": ".py",
   "mimetype": "text/x-python",
   "name": "python",
   "nbconvert_exporter": "python",
   "pygments_lexer": "ipython3",
   "version": "3.9.7"
  },
  "orig_nbformat": 4
 },
 "nbformat": 4,
 "nbformat_minor": 2
}
